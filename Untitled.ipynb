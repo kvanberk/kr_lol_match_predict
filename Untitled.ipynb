{
 "cells": [
  {
   "cell_type": "code",
   "execution_count": 1,
   "metadata": {},
   "outputs": [],
   "source": [
    "import pandas as pd"
   ]
  },
  {
   "cell_type": "code",
   "execution_count": 2,
   "metadata": {},
   "outputs": [],
   "source": [
    "df = pd.read_json(r'C:\\Users\\Admin\\Documents\\Python\\project_5\\datahub\\validated\\match_dataset.json')"
   ]
  },
  {
   "cell_type": "code",
   "execution_count": 3,
   "metadata": {},
   "outputs": [
    {
     "data": {
      "text/html": [
       "<div>\n",
       "<style scoped>\n",
       "    .dataframe tbody tr th:only-of-type {\n",
       "        vertical-align: middle;\n",
       "    }\n",
       "\n",
       "    .dataframe tbody tr th {\n",
       "        vertical-align: top;\n",
       "    }\n",
       "\n",
       "    .dataframe thead th {\n",
       "        text-align: right;\n",
       "    }\n",
       "</style>\n",
       "<table border=\"1\" class=\"dataframe\">\n",
       "  <thead>\n",
       "    <tr style=\"text-align: right;\">\n",
       "      <th></th>\n",
       "      <th>summoner_name</th>\n",
       "      <th>summoner_id</th>\n",
       "      <th>champion_name</th>\n",
       "      <th>champion_id</th>\n",
       "      <th>team_id</th>\n",
       "      <th>match_id</th>\n",
       "      <th>patch</th>\n",
       "      <th>position</th>\n",
       "      <th>summoner_spell_1</th>\n",
       "      <th>summoner_spell_2</th>\n",
       "      <th>...</th>\n",
       "      <th>main_perk_4</th>\n",
       "      <th>sub_perk_1</th>\n",
       "      <th>sub_perk_2</th>\n",
       "      <th>match_result</th>\n",
       "      <th>championPoints</th>\n",
       "      <th>league_points</th>\n",
       "      <th>wins</th>\n",
       "      <th>losses</th>\n",
       "      <th>hotstreak</th>\n",
       "      <th>champion_win_rate</th>\n",
       "    </tr>\n",
       "  </thead>\n",
       "  <tbody>\n",
       "    <tr>\n",
       "      <th>0</th>\n",
       "      <td>공부하기시러요</td>\n",
       "      <td>pzfju_dmaW1vkcJza5xv8HWborsNHkOjEqIITm4uxwmdpts</td>\n",
       "      <td>Graves</td>\n",
       "      <td>104</td>\n",
       "      <td>blue</td>\n",
       "      <td>KR_5653107144</td>\n",
       "      <td>11.24.414.4003</td>\n",
       "      <td>TOP</td>\n",
       "      <td>SummonerTeleport</td>\n",
       "      <td>SummonerFlash</td>\n",
       "      <td>...</td>\n",
       "      <td>LastStand</td>\n",
       "      <td>BiscuitDelivery</td>\n",
       "      <td>TimeWarpTonic</td>\n",
       "      <td>False</td>\n",
       "      <td>53826.0</td>\n",
       "      <td>724.0</td>\n",
       "      <td>659.0</td>\n",
       "      <td>600.0</td>\n",
       "      <td>0.0</td>\n",
       "      <td>0.4999</td>\n",
       "    </tr>\n",
       "  </tbody>\n",
       "</table>\n",
       "<p>1 rows × 26 columns</p>\n",
       "</div>"
      ],
      "text/plain": [
       "  summoner_name                                      summoner_id  \\\n",
       "0       공부하기시러요  pzfju_dmaW1vkcJza5xv8HWborsNHkOjEqIITm4uxwmdpts   \n",
       "\n",
       "  champion_name  champion_id team_id       match_id           patch position  \\\n",
       "0        Graves          104    blue  KR_5653107144  11.24.414.4003      TOP   \n",
       "\n",
       "   summoner_spell_1 summoner_spell_2  ... main_perk_4       sub_perk_1  \\\n",
       "0  SummonerTeleport    SummonerFlash  ...   LastStand  BiscuitDelivery   \n",
       "\n",
       "      sub_perk_2 match_result championPoints league_points   wins losses  \\\n",
       "0  TimeWarpTonic        False        53826.0         724.0  659.0  600.0   \n",
       "\n",
       "  hotstreak  champion_win_rate  \n",
       "0       0.0             0.4999  \n",
       "\n",
       "[1 rows x 26 columns]"
      ]
     },
     "execution_count": 3,
     "metadata": {},
     "output_type": "execute_result"
    }
   ],
   "source": [
    "df.head(1)"
   ]
  }
 ],
 "metadata": {
  "kernelspec": {
   "display_name": "Python 3",
   "language": "python",
   "name": "python3"
  },
  "language_info": {
   "codemirror_mode": {
    "name": "ipython",
    "version": 3
   },
   "file_extension": ".py",
   "mimetype": "text/x-python",
   "name": "python",
   "nbconvert_exporter": "python",
   "pygments_lexer": "ipython3",
   "version": "3.8.3"
  }
 },
 "nbformat": 4,
 "nbformat_minor": 4
}
